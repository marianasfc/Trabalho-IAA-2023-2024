{
 "cells": [
  {
   "cell_type": "markdown",
   "metadata": {},
   "source": [
    "#### Rodrigo Aguiar a22209738\n",
    "#### Rafael Ramalhete a22209712\n",
    "#### Mariana Carvalho a22001926"
   ]
  },
  {
   "cell_type": "markdown",
   "metadata": {},
   "source": [
    "# Trabalho de avaliação 2"
   ]
  },
  {
   "cell_type": "markdown",
   "metadata": {},
   "source": [
    "# Introdução \n",
    "\n",
    "Este trabalho é sobre o uso do algoritmo de **Hill Climbing** para resolver o famoso **Problema do Caixeiro Viajante** (Traveling Salesman Problem - **TSP**) de forma aproximada. O objetivo do **TSP** é encontrar o caminho mais curto que visita todas as cidades exatamente uma vez e retorna à cidade de origem."
   ]
  },
  {
   "cell_type": "markdown",
   "metadata": {},
   "source": [
    "# Bibliotecas\n",
    "Estas linhas de código importam as bibliotecas **NumPy**, **Random** e **Networkx** para o ambiente Python.<br> \n",
    "O import **Random** traz uma caixa de ferramentas que nos ajuda a gerar números aleatórios. <br>\n",
    "O import **NumPy** as np traz uma caixa de ferramentas que nos ajuda a lidar com matrizes e operações matemáticas. <br>\n",
    "E o import **Networkx** as nx traz uma caixa de ferramentas que nos ajuda a trabalhar com grafos, que são maneiras de representar conexões entre coisas."
   ]
  },
  {
   "cell_type": "code",
   "execution_count": 27,
   "metadata": {},
   "outputs": [],
   "source": [
    "import random\n",
    "import numpy as np\n",
    "import networkx as nx"
   ]
  },
  {
   "cell_type": "markdown",
   "metadata": {},
   "source": [
    "# Dados de entrada - Coordenadas das cidades\n",
    "\n",
    "Neste bloco, são fornecidas as coordenadas das cidades. Cada linha da matriz representa as coordenadas (x, y) de uma cidade."
   ]
  },
  {
   "cell_type": "code",
   "execution_count": 28,
   "metadata": {},
   "outputs": [],
   "source": [
    "#coordinate of the points/cities\n",
    "coordinate = np.array([[1,2], [30,21], [56,23], [8,18], [20,50], [3,4], [11,6], [6,7], [15,20], [10,9], [12,12]])"
   ]
  },
  {
   "cell_type": "markdown",
   "metadata": {},
   "source": [
    "# Criação de uma matriz de adjacência\n",
    "\n",
    "A função **'generate_matrix'** é responsável por calcular a matriz de adjacência para um grafo ponderado com base nas coordenadas fornecidas das cidades.\n",
    "Inicialmente, é criada uma lista vazia chamada matrix para armazenar os valores das distâncias entre as cidades. De seguida, são usados dois loops **'for'** para percorrer todas as combinações possíveis de pares de cidades. O primeiro loop **'for'** itera todas as linhas da matriz coordinate, representando assim cada cidade, já o segundo loop **'for'** itera todas as colunas da matriz coordinate, novamente representando cada cidade. <br>\n",
    "Para cada par de cidades representadas pelas coordenadas **'coordinate[i]'** e **'coordinate[j]'**, usamos a função **'np.linalg.norm()'** do **'NumPy'** para calcular a norma Euclidiana, ou seja, a distância euclidiana entre essas duas coordenadas(distância é a distância direta entre as duas cidades). Cada distância calculada é então adicionada à lista **'matrix'**. Após calcular todas as distâncias e armazená-las na lista matrix, é reestruturada em uma matriz bidimensional usando a função np.reshape().\n"
   ]
  },
  {
   "cell_type": "code",
   "execution_count": 29,
   "metadata": {},
   "outputs": [],
   "source": [
    "#adjacency matrix for a weighted graph based on the given coordinates\n",
    "def generate_matrix(coordinate):\n",
    "    matrix = []\n",
    "    for i in range(len(coordinate)):\n",
    "        for j in range(len(coordinate)) :       \n",
    "            p = np.linalg.norm(coordinate[i] - coordinate[j])\n",
    "            matrix.append(p)\n",
    "    matrix = np.reshape(matrix, (len(coordinate),len(coordinate)))\n",
    "    np.set_printoptions(linewidth=160)\n",
    "    print(matrix)\n",
    "    return matrix"
   ]
  },
  {
   "cell_type": "markdown",
   "metadata": {},
   "source": [
    "# Solução Random \n",
    "A função **'solution'** tem como objetivo encontrar uma solução inicial aleatória para o Problema do Caixeiro Viajante (TSP).<br>\n",
    "É inicializada a lista **'points'** contendo os índices de todas as cidades, representadas por números de 0 a len(matrix) - 1, onde **'matrix'** é a matriz de adjacência do grafo.<br>\n",
    "É feita uma iteração sobre o intervalo de 0 até o número de cidades no problema (o comprimento da matriz). Para cada iteração, é escolhido aleatoriamente um índice de cidade da lista **'points'** usando **'random.randint(0, len(points) - 1)'**(dá um índice aleatório dentro do intervalo de índices disponíveis). <br>\n",
    "A cidade selecionada aleatoriamente é adicionada à lista **'solution'**, representando a ordem de visita das cidades. Em seguida, essa cidade é removida da lista **'points'** para garantir que não seja selecionada novamente. O loop continua até que todas as cidades tenham sido selecionadas e adicionadas à solução. Após selecionar aleatoriamente todas as cidades e adicioná-las à solução, é retornada a lista **'solution'**, que representa uma solução inicial aleatória para o TSP."
   ]
  },
  {
   "cell_type": "code",
   "execution_count": 30,
   "metadata": {},
   "outputs": [],
   "source": [
    "#finds a random solution    \n",
    "def solution(matrix):\n",
    "    points = list(range(0, len(matrix)))\n",
    "    solution = []\n",
    "    for i in range(0, len(matrix)):\n",
    "        random_point = points[random.randint(0, len(points) - 1)]\n",
    "        solution.append(random_point)\n",
    "        points.remove(random_point)\n",
    "    return solution"
   ]
  },
  {
   "cell_type": "markdown",
   "metadata": {},
   "source": [
    "# Cálculo do comprimento do caminho\n",
    "A função **'path_length'** é responsável por calcular o comprimento total do caminho para uma solução dada do Problema do Caixeiro Viajante (TSP). A variável cycle_length é inicializada com o valor zero e será usada para armazenar o comprimento total do ciclo, que representa o caminho percorrido pelo caixeiro viajante.<br>\n",
    "É realizada uma iteração sobre os índices da lista **'solution'**, que contém a ordem em que as cidades devem ser visitadas. Para cada cidade na solução, somamos à variável **'cycle_length'** a distância entre a cidade atual e a cidade anterior na solução. Essa distância é obtida consultando a matriz de adjacência matrix nas posições **'[solution[i]][solution[i - 1]]'**.<br>\n",
    "Após percorrer todas as cidades na solução e somar as distâncias entre elas, retornamos o valor final de **'cycle_length'**, que representa o comprimento total do caminho percorrido pelo caixeiro viajante."
   ]
  },
  {
   "cell_type": "code",
   "execution_count": 31,
   "metadata": {},
   "outputs": [],
   "source": [
    "#calculate the path based on the random solution\n",
    "def path_length(matrix, solution):\n",
    "    cycle_length = 0\n",
    "    for i in range(0, len(solution)):\n",
    "        cycle_length += matrix[solution[i]][solution[i - 1]]\n",
    "    return cycle_length"
   ]
  },
  {
   "cell_type": "markdown",
   "metadata": {},
   "source": [
    "# Gereção de vizinhos \n",
    "A função **'neighbors'** é responsável por gerar os vizinhos da solução atual, trocando as cidades na solução, e retorna o melhor vizinho encontrado.<br>\n",
    "A lista **'neighbors'** é inicializada como uma lista vazia, que será preenchida com as soluções vizinhas.<br>\n",
    "Percorremos todas as combinações possíveis de pares de cidades na solução atual com o primeiro loop que itera sobre os índices de todas as cidades na solução. Começamos um segundo loop que itera sobre os índices de todas as cidades na solução, começando de **'i + 1'**, garantindo que não existem trocas de uma cidade por ela mesma.<br>\n",
    "Adicionamos o vizinho gerado à lista **'neighbors'**. Assumimos que o primeiro vizinho na lista de vizinhos é o melhor vizinho inicialmente. Isso é feito atribuindo **'best_neighbor'** como o primeiro vizinho na lista e calculando o custo desse vizinho usando a função **'path_length'**.<br>\n",
    "Para cada vizinho, calculamos o custo (comprimento do caminho) utilizando a função **'path_length'**. Se o custo do vizinho atual for menor que o custo do melhor vizinho encontrado até agora, atualizamos o melhor vizinho e o melhor custo.<br>\n",
    "Após percorrer todos os vizinhos e encontrar o melhor, retornamos o melhor vizinho e seu custo.\n"
   ]
  },
  {
   "cell_type": "code",
   "execution_count": 32,
   "metadata": {},
   "outputs": [],
   "source": [
    "#generate neighbors of the random solution by swapping cities and returns the best neighbor\n",
    "def neighbors(matrix, solution):\n",
    "    neighbors = []\n",
    "    for i in range(len(solution)):\n",
    "        for j in range(i + 1, len(solution)):\n",
    "            neighbor = solution.copy()\n",
    "            neighbor[i] = solution[j]\n",
    "            neighbor[j] = solution[i]\n",
    "            neighbors.append(neighbor)\n",
    "             \n",
    "    #assume that the first neighbor in the list is the best neighbor      \n",
    "    best_neighbor = neighbors[0]\n",
    "    best_path = path_length(matrix, best_neighbor)\n",
    "     \n",
    "    #check if there is a better neighbor\n",
    "    for neighbor in neighbors:\n",
    "        current_path = path_length(matrix, neighbor)\n",
    "        if current_path < best_path:\n",
    "            best_path = current_path\n",
    "            best_neighbor = neighbor\n",
    "    return best_neighbor, best_path"
   ]
  },
  {
   "cell_type": "markdown",
   "metadata": {},
   "source": [
    "# Escolha do melhor vizinho \n",
    "\n",
    "A função **'hill_climbing'** implementa o algoritmo de **'Hill Climbing'** para resolver o Problema do Caixeiro Viajante (**'TSP'**).<br>\n",
    "É usada a função **'generate_matrix(coordinate)'** para gerar a matriz de adjacência com base nas coordenadas das cidades fornecidas. É tambem usada a função **'solution(matrix)'** para obter uma solução inicial aleatória para o **'TSP'**. <br>\n",
    "É emtão calculado o custo (comprimento do caminho) da solução atual utilizando a função **'path_length(matrix, current_solution)'**.A função **'neighbors(matrix, current_solution)'** para obter o melhor vizinho da solução atual. O melhor vizinho é aquele com o menor custo. De seguida é inciado um loop while que continua enquanto o custo do melhor vizinho encontrado for menor que o custo da solução atual. Dentro do loop, atualizamos a solução atual e seu custo para serem iguais ao melhor vizinho encontrado. Em seguida, buscamos o melhor vizinho da nova solução e repetimos o processo.<br>\n",
    "Quando não há mais melhorias possíveis, saímos do loop e retornamos a solução final encontrada, representada pelo comprimento do caminho (current_path) e a ordem das cidades visitadas (current_solution).\n"
   ]
  },
  {
   "cell_type": "code",
   "execution_count": 33,
   "metadata": {},
   "outputs": [],
   "source": [
    "def hill_climbing(coordinate):\n",
    "    matrix = generate_matrix(coordinate)\n",
    "     \n",
    "    current_solution = solution(matrix)\n",
    "    current_path = path_length(matrix, current_solution)\n",
    "    neighbor = neighbors(matrix,current_solution)[0]\n",
    "    best_neighbor, best_neighbor_path = neighbors(matrix, neighbor)\n",
    " \n",
    "    while best_neighbor_path < current_path:\n",
    "        print (\"best = \", best_neighbor)\n",
    "        print (\"best_path = \", best_neighbor_path)\n",
    "        current_solution = best_neighbor\n",
    "        current_path = best_neighbor_path\n",
    "        neighbor = neighbors(matrix, current_solution)[0]\n",
    "        best_neighbor, best_neighbor_path = neighbors(matrix, neighbor)\n",
    " \n",
    "    return current_path, current_solution"
   ]
  },
  {
   "cell_type": "markdown",
   "metadata": {},
   "source": [
    "# Chamada da função principal e impressão da solução final\n",
    "\n",
    "Este bloco de código executa o algoritmo de Hill Climbing para resolver o Problema do Caixeiro Viajante (TSP) com base nas coordenadas das cidades fornecidas. Em seguida, imprime a solução final na tela, que consiste no caminho mais curto encontrado e oseu comprimento total. **uma vez que o algoritmo está a apresentar  cada vez mais um melhor caminho podemos considerar bem**"
   ]
  },
  {
   "cell_type": "code",
   "execution_count": 34,
   "metadata": {},
   "outputs": [
    {
     "name": "stdout",
     "output_type": "stream",
     "text": [
      "[[ 0.         34.66987165 58.87274412 17.4642492  51.623638    2.82842712 10.77032961  7.07106781 22.8035085  11.40175425 14.86606875]\n",
      " [34.66987165  0.         26.07680962 22.20360331 30.6757233  31.90611227 24.20743687 27.78488798 15.03329638 23.32380758 20.1246118 ]\n",
      " [58.87274412 26.07680962  0.         48.25971405 45.         56.30275304 48.10405388 52.49761899 41.10960958 48.08326112 45.35416188]\n",
      " [17.4642492  22.20360331 48.25971405  0.         34.17601498 14.86606875 12.36931688 11.18033989  7.28010989  9.21954446  7.21110255]\n",
      " [51.623638   30.6757233  45.         34.17601498  0.         49.04079934 44.91102315 45.22167622 30.41381265 42.20189569 38.83297568]\n",
      " [ 2.82842712 31.90611227 56.30275304 14.86606875 49.04079934  0.          8.24621125  4.24264069 20.          8.60232527 12.04159458]\n",
      " [10.77032961 24.20743687 48.10405388 12.36931688 44.91102315  8.24621125  0.          5.09901951 14.56021978  3.16227766  6.08276253]\n",
      " [ 7.07106781 27.78488798 52.49761899 11.18033989 45.22167622  4.24264069  5.09901951  0.         15.8113883   4.47213595  7.81024968]\n",
      " [22.8035085  15.03329638 41.10960958  7.28010989 30.41381265 20.         14.56021978 15.8113883   0.         12.08304597  8.54400375]\n",
      " [11.40175425 23.32380758 48.08326112  9.21954446 42.20189569  8.60232527  3.16227766  4.47213595 12.08304597  0.          3.60555128]\n",
      " [14.86606875 20.1246118  45.35416188  7.21110255 38.83297568 12.04159458  6.08276253  7.81024968  8.54400375  3.60555128  0.        ]]\n",
      "best =  [5, 9, 10, 8, 4, 1, 2, 3, 7, 0, 6]\n",
      "best_path =  193.44588847340515\n",
      "best =  [6, 9, 10, 8, 4, 2, 1, 3, 7, 0, 5]\n",
      "best_path =  168.33210433977206\n",
      "best =  [6, 9, 10, 8, 1, 2, 4, 3, 7, 5, 0]\n",
      "best_path =  164.61969097503695\n",
      "The solution is \n",
      " [6, 9, 10, 8, 1, 2, 4, 3, 7, 5, 0]\n"
     ]
    }
   ],
   "source": [
    "final_solution = hill_climbing(coordinate)\n",
    "print(\"The solution is \\n\", final_solution[1])"
   ]
  },
  {
   "cell_type": "markdown",
   "metadata": {},
   "source": [
    "# Teste\n",
    "\n",
    "Para testar o algoritmo de Hill Climbing, criámos um conjunto de coordenadas de cidades e observámos a solução final encontrada. Este código irá executar o algoritmo de Hill Climbing com as coordenadas fornecidas e imprimir a ordem das cidades visitadas na solução final."
   ]
  },
  {
   "cell_type": "code",
   "execution_count": 35,
   "metadata": {},
   "outputs": [
    {
     "name": "stdout",
     "output_type": "stream",
     "text": [
      "[[0.         1.41421356 2.82842712 4.24264069 5.65685425]\n",
      " [1.41421356 0.         1.41421356 2.82842712 4.24264069]\n",
      " [2.82842712 1.41421356 0.         1.41421356 2.82842712]\n",
      " [4.24264069 2.82842712 1.41421356 0.         1.41421356]\n",
      " [5.65685425 4.24264069 2.82842712 1.41421356 0.        ]]\n",
      "best =  [1, 4, 3, 2, 0]\n",
      "best_path =  11.31370849898476\n",
      "A solução final é:\n",
      " [1, 4, 3, 2, 0]\n"
     ]
    }
   ],
   "source": [
    "test_coordinates = np.array([[0, 0], [1, 1], [2, 2], [3, 3], [4, 4]])\n",
    "final_solution = hill_climbing(test_coordinates)\n",
    "print(\"A solução final é:\\n\", final_solution[1])"
   ]
  },
  {
   "cell_type": "markdown",
   "metadata": {},
   "source": [
    "# Variantes:"
   ]
  },
  {
   "cell_type": "markdown",
   "metadata": {},
   "source": [
    "# 1. Estocástico\n",
    "\n",
    "Para implementar a variante estocástica do algoritmo de Hill Climbing, é que introduzimos a função **random_neighbor**, que gera um vizinho aleatório trocando aleatoriamente duas cidades na solução atual. Na função **stochastic_hill_climbing**, iteramos por um número máximo de iterações, gerando um vizinho aleatório em cada iteração e, às vezes, aceitando vizinhos piores com uma certa probabilidade (random.random() < 0.5). \n",
    "A principal diferença é que, em vez de escolher sempre o melhor vizinho, agora escolhemos um vizinho aleatório com uma certa probabilidade, mesmo que esta seja pior do que a solução atual. Isso ajuda a evitar ficar preso em ótimos locais locais."
   ]
  },
  {
   "cell_type": "code",
   "execution_count": 36,
   "metadata": {},
   "outputs": [],
   "source": [
    "def random_neighbor(matrix, solution):\n",
    "    i, j = random.sample(range(len(solution)), 2)\n",
    "    neighbor = solution.copy()\n",
    "    neighbor[i] = solution[j]\n",
    "    neighbor[j] = solution[i]\n",
    "    return neighbor\n",
    "\n",
    "def stochastic_hill_climbing(coordinate, max_iterations=1000):\n",
    "    matrix = generate_matrix(coordinate)\n",
    "\n",
    "    current_solution = solution(matrix)\n",
    "    current_path = path_length(matrix, current_solution)\n",
    "\n",
    "    for _ in range(max_iterations):\n",
    "        neighbor = random_neighbor(matrix, current_solution)\n",
    "        neighbor_path = path_length(matrix, neighbor)\n",
    "\n",
    "        if neighbor_path < current_path or random.random() < 0.5:  \n",
    "            current_solution = neighbor\n",
    "            current_path = neighbor_path\n",
    "\n",
    "    return current_path, current_solution\n"
   ]
  },
  {
   "cell_type": "code",
   "execution_count": 37,
   "metadata": {},
   "outputs": [
    {
     "name": "stdout",
     "output_type": "stream",
     "text": [
      "[[ 0.         34.66987165 58.87274412 17.4642492  51.623638    2.82842712 10.77032961  7.07106781 22.8035085  11.40175425 14.86606875]\n",
      " [34.66987165  0.         26.07680962 22.20360331 30.6757233  31.90611227 24.20743687 27.78488798 15.03329638 23.32380758 20.1246118 ]\n",
      " [58.87274412 26.07680962  0.         48.25971405 45.         56.30275304 48.10405388 52.49761899 41.10960958 48.08326112 45.35416188]\n",
      " [17.4642492  22.20360331 48.25971405  0.         34.17601498 14.86606875 12.36931688 11.18033989  7.28010989  9.21954446  7.21110255]\n",
      " [51.623638   30.6757233  45.         34.17601498  0.         49.04079934 44.91102315 45.22167622 30.41381265 42.20189569 38.83297568]\n",
      " [ 2.82842712 31.90611227 56.30275304 14.86606875 49.04079934  0.          8.24621125  4.24264069 20.          8.60232527 12.04159458]\n",
      " [10.77032961 24.20743687 48.10405388 12.36931688 44.91102315  8.24621125  0.          5.09901951 14.56021978  3.16227766  6.08276253]\n",
      " [ 7.07106781 27.78488798 52.49761899 11.18033989 45.22167622  4.24264069  5.09901951  0.         15.8113883   4.47213595  7.81024968]\n",
      " [22.8035085  15.03329638 41.10960958  7.28010989 30.41381265 20.         14.56021978 15.8113883   0.         12.08304597  8.54400375]\n",
      " [11.40175425 23.32380758 48.08326112  9.21954446 42.20189569  8.60232527  3.16227766  4.47213595 12.08304597  0.          3.60555128]\n",
      " [14.86606875 20.1246118  45.35416188  7.21110255 38.83297568 12.04159458  6.08276253  7.81024968  8.54400375  3.60555128  0.        ]]\n",
      "The solution is \n",
      " [3, 2, 9, 5, 0, 4, 8, 7, 10, 6, 1]\n"
     ]
    }
   ],
   "source": [
    "final_solution = stochastic_hill_climbing(coordinate)\n",
    "print(\"The solution is \\n\", final_solution[1])"
   ]
  },
  {
   "cell_type": "markdown",
   "metadata": {},
   "source": [
    "# 2. Primeiro-melhor\n",
    "\n",
    "Para implementar a variante **primeiro-melhor** do algoritmo de Hill Climbing, faremos uma alteração na função **neighbors** para gerar apenas um vizinho por iteração e aceitar esse vizinho imediatamente se ele for melhor que a solução atual. Nesta versão da função **neighbors**, iteramos sobre todos os vizinhos, mas assim que encontramos o primeiro vizinho cujo caminho é melhor que o da solução atual, retornamos esse vizinho. Se nenhum vizinho for melhor, retornamos a solução atual. <br>\n",
    "A função **'first_best_hill_climbing'** retorna quando um vizinho melhor é encontrado. Se nenhum vizinho melhor for encontrado após o número máximo de iterações, a solução atual é retornada, garantido assim que escolhemos sempre a primeira solução melhor que a atual que encontramos durante a procura."
   ]
  },
  {
   "cell_type": "code",
   "execution_count": 38,
   "metadata": {},
   "outputs": [],
   "source": [
    "def random_neighbor(matrix, solution):\n",
    "    i, j = random.sample(range(len(solution)), 2)\n",
    "    neighbor = solution.copy()\n",
    "    neighbor[i] = solution[j]\n",
    "    neighbor[j] = solution[i]\n",
    "    return neighbor\n",
    "\n",
    "def first_best_hill_climbing(coordinate, max_iterations=1000):\n",
    "    matrix = generate_matrix(coordinate)\n",
    "\n",
    "    current_solution = solution(matrix)\n",
    "    current_path = path_length(matrix, current_solution)\n",
    "\n",
    "    for _ in range(max_iterations):\n",
    "        neighbor = random_neighbor(matrix, current_solution)\n",
    "        neighbor_path = path_length(matrix, neighbor)\n",
    "\n",
    "        if neighbor_path < current_path:\n",
    "            return neighbor_path, neighbor  # Return first better neighbor found\n",
    "\n",
    "    return current_path, current_solution  # If no better neighbor is found, return current solution\n",
    "\n"
   ]
  },
  {
   "cell_type": "code",
   "execution_count": 39,
   "metadata": {},
   "outputs": [
    {
     "name": "stdout",
     "output_type": "stream",
     "text": [
      "[[ 0.         34.66987165 58.87274412 17.4642492  51.623638    2.82842712 10.77032961  7.07106781 22.8035085  11.40175425 14.86606875]\n",
      " [34.66987165  0.         26.07680962 22.20360331 30.6757233  31.90611227 24.20743687 27.78488798 15.03329638 23.32380758 20.1246118 ]\n",
      " [58.87274412 26.07680962  0.         48.25971405 45.         56.30275304 48.10405388 52.49761899 41.10960958 48.08326112 45.35416188]\n",
      " [17.4642492  22.20360331 48.25971405  0.         34.17601498 14.86606875 12.36931688 11.18033989  7.28010989  9.21954446  7.21110255]\n",
      " [51.623638   30.6757233  45.         34.17601498  0.         49.04079934 44.91102315 45.22167622 30.41381265 42.20189569 38.83297568]\n",
      " [ 2.82842712 31.90611227 56.30275304 14.86606875 49.04079934  0.          8.24621125  4.24264069 20.          8.60232527 12.04159458]\n",
      " [10.77032961 24.20743687 48.10405388 12.36931688 44.91102315  8.24621125  0.          5.09901951 14.56021978  3.16227766  6.08276253]\n",
      " [ 7.07106781 27.78488798 52.49761899 11.18033989 45.22167622  4.24264069  5.09901951  0.         15.8113883   4.47213595  7.81024968]\n",
      " [22.8035085  15.03329638 41.10960958  7.28010989 30.41381265 20.         14.56021978 15.8113883   0.         12.08304597  8.54400375]\n",
      " [11.40175425 23.32380758 48.08326112  9.21954446 42.20189569  8.60232527  3.16227766  4.47213595 12.08304597  0.          3.60555128]\n",
      " [14.86606875 20.1246118  45.35416188  7.21110255 38.83297568 12.04159458  6.08276253  7.81024968  8.54400375  3.60555128  0.        ]]\n",
      "The solution is \n",
      " [5, 0, 3, 4, 9, 10, 7, 8, 2, 1, 6]\n"
     ]
    }
   ],
   "source": [
    "final_solution = first_best_hill_climbing(coordinate)\n",
    "print(\"The solution is \\n\", final_solution[1])"
   ]
  },
  {
   "cell_type": "markdown",
   "metadata": {},
   "source": [
    "# 3. Reinicialização aleatória\n",
    "Para implementar a variante de **reinicialização aleatória** do algoritmo de Hill Climbing, podemos adicionar um critério de reinicialização que reinicia o processo de busca com uma nova solução aleatória sempre que uma quantidade específica de iterações não melhorar a solução atual. Vamos introduzir um parâmetro **restart_threshold** na função **hill_climbing**, que determinará quantas iterações devem ocorrer sem melhoria antes de reiniciar com uma nova solução aleatória. Quando o número de iterações sem melhoria atingir o limite especificado, reiniciaremos o processo com uma nova solução aleatória e zeraremos o contador de iterações.<br>\n",
    "Adicionámos a variável **iterations_without_improvement** para rastrear o número de iterações consecutivas sem melhoria. Quando esse número atinge ou ultrapassa o limiar definido em **restart_threshold**, reinicializamos a procura a partir de uma nova solução aleatória. Isso ajuda a evitar que o algoritmo fique preso em ótimos locais, permitindo que explore diferentes partes do espaço de solução."
   ]
  },
  {
   "cell_type": "code",
   "execution_count": 40,
   "metadata": {},
   "outputs": [],
   "source": [
    "def random_restart_hill_climbing(coordinate, max_iterations=1000, restart_threshold=100):\n",
    "    matrix = generate_matrix(coordinate)\n",
    "    current_solution = solution(matrix)\n",
    "    current_path = path_length(matrix, current_solution)\n",
    "    iterations_without_improvement = 0\n",
    "\n",
    "    for _ in range(max_iterations):\n",
    "        neighbor = random_neighbor(matrix, current_solution)\n",
    "        neighbor_path = path_length(matrix, neighbor)\n",
    "\n",
    "        if neighbor_path < current_path:\n",
    "            current_solution = neighbor\n",
    "            current_path = neighbor_path\n",
    "            iterations_without_improvement = 0\n",
    "        else:\n",
    "            iterations_without_improvement += 1\n",
    "\n",
    "        if iterations_without_improvement >= restart_threshold:\n",
    "            current_solution = solution(matrix)  # Random restart\n",
    "            current_path = path_length(matrix, current_solution)\n",
    "            iterations_without_improvement = 0\n",
    "\n",
    "    return current_path, current_solution"
   ]
  },
  {
   "cell_type": "code",
   "execution_count": 41,
   "metadata": {},
   "outputs": [
    {
     "name": "stdout",
     "output_type": "stream",
     "text": [
      "[[ 0.         34.66987165 58.87274412 17.4642492  51.623638    2.82842712 10.77032961  7.07106781 22.8035085  11.40175425 14.86606875]\n",
      " [34.66987165  0.         26.07680962 22.20360331 30.6757233  31.90611227 24.20743687 27.78488798 15.03329638 23.32380758 20.1246118 ]\n",
      " [58.87274412 26.07680962  0.         48.25971405 45.         56.30275304 48.10405388 52.49761899 41.10960958 48.08326112 45.35416188]\n",
      " [17.4642492  22.20360331 48.25971405  0.         34.17601498 14.86606875 12.36931688 11.18033989  7.28010989  9.21954446  7.21110255]\n",
      " [51.623638   30.6757233  45.         34.17601498  0.         49.04079934 44.91102315 45.22167622 30.41381265 42.20189569 38.83297568]\n",
      " [ 2.82842712 31.90611227 56.30275304 14.86606875 49.04079934  0.          8.24621125  4.24264069 20.          8.60232527 12.04159458]\n",
      " [10.77032961 24.20743687 48.10405388 12.36931688 44.91102315  8.24621125  0.          5.09901951 14.56021978  3.16227766  6.08276253]\n",
      " [ 7.07106781 27.78488798 52.49761899 11.18033989 45.22167622  4.24264069  5.09901951  0.         15.8113883   4.47213595  7.81024968]\n",
      " [22.8035085  15.03329638 41.10960958  7.28010989 30.41381265 20.         14.56021978 15.8113883   0.         12.08304597  8.54400375]\n",
      " [11.40175425 23.32380758 48.08326112  9.21954446 42.20189569  8.60232527  3.16227766  4.47213595 12.08304597  0.          3.60555128]\n",
      " [14.86606875 20.1246118  45.35416188  7.21110255 38.83297568 12.04159458  6.08276253  7.81024968  8.54400375  3.60555128  0.        ]]\n",
      "The solution is \n",
      " [5, 0, 6, 10, 1, 2, 4, 8, 3, 9, 7]\n"
     ]
    }
   ],
   "source": [
    "final_solution = random_restart_hill_climbing(coordinate)\n",
    "print(\"The solution is \\n\", final_solution[1])"
   ]
  },
  {
   "cell_type": "markdown",
   "metadata": {},
   "source": [
    "#  Contar número de soluções geradas em cada variante, incluindo a tradicional.\n",
    "\n",
    "Para contar o número de soluções geradas em cada variante do algoritmo de Hill Climbing, iremos usar a função **'path_lengt´** modificada de modo a não só calcular o comprimento do ciclo para uma dada solução, mas também manter o controlo do número de vezes que é chamada, permitindo que se saiba quantas vezes o comprimento do caminho foi calculado ao longo do tempo, isto através do contador implementado na função."
   ]
  },
  {
   "cell_type": "code",
   "execution_count": 42,
   "metadata": {},
   "outputs": [],
   "source": [
    "def path_length(matrix, solution, counter):\n",
    "    counter[0] += 1\n",
    "    cycle_length = 0\n",
    "    for i in range(len(solution)):\n",
    "        cycle_length += matrix[solution[i]][solution[i - 1]]\n",
    "    return cycle_length"
   ]
  },
  {
   "cell_type": "markdown",
   "metadata": {},
   "source": [
    "Vamos alterar as diferentes variantes de modo a introduzir o counter nas mesmas. <br>\n",
    "\n",
    "# Tradicional hill climbing"
   ]
  },
  {
   "cell_type": "code",
   "execution_count": 43,
   "metadata": {},
   "outputs": [
    {
     "name": "stdout",
     "output_type": "stream",
     "text": [
      "[[ 0.         34.66987165 58.87274412 17.4642492  51.623638    2.82842712 10.77032961  7.07106781 22.8035085  11.40175425 14.86606875]\n",
      " [34.66987165  0.         26.07680962 22.20360331 30.6757233  31.90611227 24.20743687 27.78488798 15.03329638 23.32380758 20.1246118 ]\n",
      " [58.87274412 26.07680962  0.         48.25971405 45.         56.30275304 48.10405388 52.49761899 41.10960958 48.08326112 45.35416188]\n",
      " [17.4642492  22.20360331 48.25971405  0.         34.17601498 14.86606875 12.36931688 11.18033989  7.28010989  9.21954446  7.21110255]\n",
      " [51.623638   30.6757233  45.         34.17601498  0.         49.04079934 44.91102315 45.22167622 30.41381265 42.20189569 38.83297568]\n",
      " [ 2.82842712 31.90611227 56.30275304 14.86606875 49.04079934  0.          8.24621125  4.24264069 20.          8.60232527 12.04159458]\n",
      " [10.77032961 24.20743687 48.10405388 12.36931688 44.91102315  8.24621125  0.          5.09901951 14.56021978  3.16227766  6.08276253]\n",
      " [ 7.07106781 27.78488798 52.49761899 11.18033989 45.22167622  4.24264069  5.09901951  0.         15.8113883   4.47213595  7.81024968]\n",
      " [22.8035085  15.03329638 41.10960958  7.28010989 30.41381265 20.         14.56021978 15.8113883   0.         12.08304597  8.54400375]\n",
      " [11.40175425 23.32380758 48.08326112  9.21954446 42.20189569  8.60232527  3.16227766  4.47213595 12.08304597  0.          3.60555128]\n",
      " [14.86606875 20.1246118  45.35416188  7.21110255 38.83297568 12.04159458  6.08276253  7.81024968  8.54400375  3.60555128  0.        ]]\n"
     ]
    }
   ],
   "source": [
    "def hill_climbing(coordinate, max_iterations=1000):\n",
    "    matrix = generate_matrix(coordinate)\n",
    "    counter = [0]\n",
    "    current_solution = solution(matrix)\n",
    "    current_path = path_length(matrix, current_solution, counter)\n",
    "\n",
    "    for _ in range(max_iterations):\n",
    "        neighbor = random_neighbor(matrix, current_solution)\n",
    "        neighbor_path = path_length(matrix, neighbor, counter)\n",
    "\n",
    "        if neighbor_path < current_path:\n",
    "            current_solution = neighbor\n",
    "            current_path = neighbor_path\n",
    "\n",
    "    return current_path, current_solution, counter[0]\n",
    "\n",
    "traditional_solution = hill_climbing(coordinate)"
   ]
  },
  {
   "cell_type": "markdown",
   "metadata": {},
   "source": [
    "#  Estocástico"
   ]
  },
  {
   "cell_type": "code",
   "execution_count": 44,
   "metadata": {},
   "outputs": [
    {
     "name": "stdout",
     "output_type": "stream",
     "text": [
      "[[ 0.         34.66987165 58.87274412 17.4642492  51.623638    2.82842712 10.77032961  7.07106781 22.8035085  11.40175425 14.86606875]\n",
      " [34.66987165  0.         26.07680962 22.20360331 30.6757233  31.90611227 24.20743687 27.78488798 15.03329638 23.32380758 20.1246118 ]\n",
      " [58.87274412 26.07680962  0.         48.25971405 45.         56.30275304 48.10405388 52.49761899 41.10960958 48.08326112 45.35416188]\n",
      " [17.4642492  22.20360331 48.25971405  0.         34.17601498 14.86606875 12.36931688 11.18033989  7.28010989  9.21954446  7.21110255]\n",
      " [51.623638   30.6757233  45.         34.17601498  0.         49.04079934 44.91102315 45.22167622 30.41381265 42.20189569 38.83297568]\n",
      " [ 2.82842712 31.90611227 56.30275304 14.86606875 49.04079934  0.          8.24621125  4.24264069 20.          8.60232527 12.04159458]\n",
      " [10.77032961 24.20743687 48.10405388 12.36931688 44.91102315  8.24621125  0.          5.09901951 14.56021978  3.16227766  6.08276253]\n",
      " [ 7.07106781 27.78488798 52.49761899 11.18033989 45.22167622  4.24264069  5.09901951  0.         15.8113883   4.47213595  7.81024968]\n",
      " [22.8035085  15.03329638 41.10960958  7.28010989 30.41381265 20.         14.56021978 15.8113883   0.         12.08304597  8.54400375]\n",
      " [11.40175425 23.32380758 48.08326112  9.21954446 42.20189569  8.60232527  3.16227766  4.47213595 12.08304597  0.          3.60555128]\n",
      " [14.86606875 20.1246118  45.35416188  7.21110255 38.83297568 12.04159458  6.08276253  7.81024968  8.54400375  3.60555128  0.        ]]\n"
     ]
    }
   ],
   "source": [
    "def stochastic_hill_climbing(coordinate, max_iterations=1000):\n",
    "    matrix = generate_matrix(coordinate)\n",
    "    counter = [0]\n",
    "    current_solution = solution(matrix)\n",
    "    current_path = path_length(matrix, current_solution, counter)\n",
    "\n",
    "    for _ in range(max_iterations):\n",
    "        neighbor = random_neighbor(matrix, current_solution)\n",
    "        neighbor_path = path_length(matrix, neighbor, counter)\n",
    "\n",
    "        if neighbor_path < current_path or random.random() < 0.5:\n",
    "            current_solution = neighbor\n",
    "            current_path = neighbor_path\n",
    "\n",
    "    return current_path, current_solution, counter[0]\n",
    "\n",
    "stochastic_solution = stochastic_hill_climbing(coordinate)"
   ]
  },
  {
   "cell_type": "markdown",
   "metadata": {},
   "source": [
    "# Primeiro-melhor"
   ]
  },
  {
   "cell_type": "code",
   "execution_count": 45,
   "metadata": {},
   "outputs": [
    {
     "name": "stdout",
     "output_type": "stream",
     "text": [
      "[[ 0.         34.66987165 58.87274412 17.4642492  51.623638    2.82842712 10.77032961  7.07106781 22.8035085  11.40175425 14.86606875]\n",
      " [34.66987165  0.         26.07680962 22.20360331 30.6757233  31.90611227 24.20743687 27.78488798 15.03329638 23.32380758 20.1246118 ]\n",
      " [58.87274412 26.07680962  0.         48.25971405 45.         56.30275304 48.10405388 52.49761899 41.10960958 48.08326112 45.35416188]\n",
      " [17.4642492  22.20360331 48.25971405  0.         34.17601498 14.86606875 12.36931688 11.18033989  7.28010989  9.21954446  7.21110255]\n",
      " [51.623638   30.6757233  45.         34.17601498  0.         49.04079934 44.91102315 45.22167622 30.41381265 42.20189569 38.83297568]\n",
      " [ 2.82842712 31.90611227 56.30275304 14.86606875 49.04079934  0.          8.24621125  4.24264069 20.          8.60232527 12.04159458]\n",
      " [10.77032961 24.20743687 48.10405388 12.36931688 44.91102315  8.24621125  0.          5.09901951 14.56021978  3.16227766  6.08276253]\n",
      " [ 7.07106781 27.78488798 52.49761899 11.18033989 45.22167622  4.24264069  5.09901951  0.         15.8113883   4.47213595  7.81024968]\n",
      " [22.8035085  15.03329638 41.10960958  7.28010989 30.41381265 20.         14.56021978 15.8113883   0.         12.08304597  8.54400375]\n",
      " [11.40175425 23.32380758 48.08326112  9.21954446 42.20189569  8.60232527  3.16227766  4.47213595 12.08304597  0.          3.60555128]\n",
      " [14.86606875 20.1246118  45.35416188  7.21110255 38.83297568 12.04159458  6.08276253  7.81024968  8.54400375  3.60555128  0.        ]]\n"
     ]
    }
   ],
   "source": [
    "def first_best_hill_climbing(coordinate, max_iterations=1000):\n",
    "    matrix = generate_matrix(coordinate)\n",
    "    counter = [0]\n",
    "    current_solution = solution(matrix)\n",
    "    current_path = path_length(matrix, current_solution, counter)\n",
    "\n",
    "    for _ in range(max_iterations):\n",
    "        neighbor = random_neighbor(matrix, current_solution)\n",
    "        neighbor_path = path_length(matrix, neighbor, counter)\n",
    "\n",
    "        if neighbor_path < current_path:\n",
    "            return neighbor_path, neighbor, counter[0]\n",
    "\n",
    "    return current_path, current_solution, counter[0]\n",
    "\n",
    "first_best_solution = first_best_hill_climbing(coordinate)"
   ]
  },
  {
   "cell_type": "markdown",
   "metadata": {},
   "source": [
    "#  Reinicialização aleatória"
   ]
  },
  {
   "cell_type": "code",
   "execution_count": 46,
   "metadata": {},
   "outputs": [
    {
     "name": "stdout",
     "output_type": "stream",
     "text": [
      "[[ 0.         34.66987165 58.87274412 17.4642492  51.623638    2.82842712 10.77032961  7.07106781 22.8035085  11.40175425 14.86606875]\n",
      " [34.66987165  0.         26.07680962 22.20360331 30.6757233  31.90611227 24.20743687 27.78488798 15.03329638 23.32380758 20.1246118 ]\n",
      " [58.87274412 26.07680962  0.         48.25971405 45.         56.30275304 48.10405388 52.49761899 41.10960958 48.08326112 45.35416188]\n",
      " [17.4642492  22.20360331 48.25971405  0.         34.17601498 14.86606875 12.36931688 11.18033989  7.28010989  9.21954446  7.21110255]\n",
      " [51.623638   30.6757233  45.         34.17601498  0.         49.04079934 44.91102315 45.22167622 30.41381265 42.20189569 38.83297568]\n",
      " [ 2.82842712 31.90611227 56.30275304 14.86606875 49.04079934  0.          8.24621125  4.24264069 20.          8.60232527 12.04159458]\n",
      " [10.77032961 24.20743687 48.10405388 12.36931688 44.91102315  8.24621125  0.          5.09901951 14.56021978  3.16227766  6.08276253]\n",
      " [ 7.07106781 27.78488798 52.49761899 11.18033989 45.22167622  4.24264069  5.09901951  0.         15.8113883   4.47213595  7.81024968]\n",
      " [22.8035085  15.03329638 41.10960958  7.28010989 30.41381265 20.         14.56021978 15.8113883   0.         12.08304597  8.54400375]\n",
      " [11.40175425 23.32380758 48.08326112  9.21954446 42.20189569  8.60232527  3.16227766  4.47213595 12.08304597  0.          3.60555128]\n",
      " [14.86606875 20.1246118  45.35416188  7.21110255 38.83297568 12.04159458  6.08276253  7.81024968  8.54400375  3.60555128  0.        ]]\n"
     ]
    }
   ],
   "source": [
    "def random_restart_hill_climbing(coordinate, max_iterations=1000, restart_threshold=100):\n",
    "    matrix = generate_matrix(coordinate)\n",
    "    counter = [0]\n",
    "    current_solution = solution(matrix)\n",
    "    current_path = path_length(matrix, current_solution, counter)\n",
    "    iterations_without_improvement = 0\n",
    "\n",
    "    for _ in range(max_iterations):\n",
    "        neighbor = random_neighbor(matrix, current_solution)\n",
    "        neighbor_path = path_length(matrix, neighbor, counter)\n",
    "\n",
    "        if neighbor_path < current_path:\n",
    "            current_solution = neighbor\n",
    "            current_path = neighbor_path\n",
    "            iterations_without_improvement = 0\n",
    "        else:\n",
    "            iterations_without_improvement += 1\n",
    "\n",
    "        if iterations_without_improvement >= restart_threshold:\n",
    "            current_solution = solution(matrix) \n",
    "            current_path = path_length(matrix, current_solution, counter)\n",
    "            iterations_without_improvement = 0\n",
    "\n",
    "    return current_path, current_solution, counter[0]\n",
    "\n",
    "random_restart_solution = random_restart_hill_climbing(coordinate)"
   ]
  },
  {
   "cell_type": "markdown",
   "metadata": {},
   "source": [
    "Iremos então chamar as diferentes variantes e analisar os resultados."
   ]
  },
  {
   "cell_type": "code",
   "execution_count": 47,
   "metadata": {},
   "outputs": [
    {
     "name": "stdout",
     "output_type": "stream",
     "text": [
      "Solução do Hill Climbing Tradicional:  164.61969097503695\n",
      "Número de soluções geradas no Hill Climbing Tradicional:  1001 \n",
      "\n",
      "Solução do Hill Climbing Estocástico:  242.4087100914783\n",
      "Número de soluções geradas no Hill Climbing Estocástico:  1001 \n",
      "\n",
      "Solução do Hill Climbing Primeiro-Melhor:  212.27158187912124\n",
      "Número de soluções geradas no Hill Climbing Primeiro-Melhor:  3 \n",
      "\n",
      "Solução do Hill Climbing Reinicialização Aleatória:  218.3084753407551\n",
      "Número de soluções geradas no Hill Climbing Reinicialização Aleatória:  1005 \n",
      "\n"
     ]
    }
   ],
   "source": [
    "print(\"Solução do Hill Climbing Tradicional: \", traditional_solution[0])\n",
    "print(\"Número de soluções geradas no Hill Climbing Tradicional: \", traditional_solution[2], \"\\n\")\n",
    "\n",
    "print(\"Solução do Hill Climbing Estocástico: \", stochastic_solution[0])\n",
    "print(\"Número de soluções geradas no Hill Climbing Estocástico: \", stochastic_solution[2], \"\\n\")\n",
    "\n",
    "print(\"Solução do Hill Climbing Primeiro-Melhor: \", first_best_solution[0])\n",
    "print(\"Número de soluções geradas no Hill Climbing Primeiro-Melhor: \", first_best_solution[2], \"\\n\")\n",
    "\n",
    "print(\"Solução do Hill Climbing Reinicialização Aleatória: \", random_restart_solution[0])\n",
    "print(\"Número de soluções geradas no Hill Climbing Reinicialização Aleatória: \", random_restart_solution[2], \"\\n\")\n"
   ]
  },
  {
   "cell_type": "markdown",
   "metadata": {},
   "source": [
    "Com base nos resultados fornecidos, podemos observar o número de soluções geradas por cada variante em diferentes instâncias do problema e dizer que:\n",
    "* O **Hill Climbing Tradicional** e o **Estocástico** geraram um número igual de soluções, ambos ultrapassando o limite de 1000 iterações, o que indica que podem ter dificuldade em encontrar uma solução ideal para este problema específico dentro desse limite.\n",
    "* O **Hill Climbing Primeiro-Melhor** obteve uma solução comparável aos outros métodos, mas gerou significativamente menos soluções (apenas 6), indicando que pode ser mais eficiente em termos de procura, uma vez que pára assim que encontra uma solução que melhora.\n",
    "* O **Hill Climbing Reinicialização Aleatória** gerou um número maior de soluções do que os outros métodos. Embora tenha alcançado uma solução semelhante à do **Hill Climbing Tradicional**, a abordagem de reinicialização aleatória pode levar a uma exploração mais ampla do espaço de soluções, potencialmente resultando em melhores soluções em problemas complexos. No entanto, isso também pode aumentar o tempo de execução.\n"
   ]
  },
  {
   "cell_type": "markdown",
   "metadata": {},
   "source": [
    "# Definir, implementar e testar outra regra de vizinhança local.\n",
    "\n",
    "Uma outra regra de vizinhança local que podemos implementar é a troca de três cidades consecutivas. Esta regra implica trocar a posição de três cidades consecutivas na solução atual."
   ]
  },
  {
   "cell_type": "code",
   "execution_count": 48,
   "metadata": {},
   "outputs": [],
   "source": [
    "def neighbor_swap_three(matrix, solution):\n",
    "    n = len(solution)\n",
    "    i = random.randint(0, n - 3)\n",
    "    j = i + 1\n",
    "    k = i + 2\n",
    "    neighbor = solution.copy()\n",
    "    neighbor[i], neighbor[j], neighbor[k] = solution[k], solution[i], solution[j]\n",
    "    return neighbor\n"
   ]
  },
  {
   "cell_type": "markdown",
   "metadata": {},
   "source": [
    "Modificação a função hill_climbing para utilizar essa nova regra de vizinhança."
   ]
  },
  {
   "cell_type": "code",
   "execution_count": 49,
   "metadata": {},
   "outputs": [],
   "source": [
    "def traditional_hill_climbing_swap_three(coordinate, max_iterations=1000):\n",
    "    matrix = generate_matrix(coordinate)\n",
    "    counter = [0]\n",
    "    current_solution = solution(matrix)\n",
    "    current_path = path_length(matrix, current_solution, counter)\n",
    "\n",
    "    for _ in range(max_iterations):\n",
    "        neighbor = neighbor_swap_three(matrix, current_solution)\n",
    "        neighbor_path = path_length(matrix, neighbor, counter)\n",
    "\n",
    "        if neighbor_path < current_path:\n",
    "            current_solution = neighbor\n",
    "            current_path = neighbor_path\n",
    "        else:\n",
    "            break\n",
    "\n",
    "    return current_path, current_solution, counter[0]\n"
   ]
  },
  {
   "cell_type": "markdown",
   "metadata": {},
   "source": [
    "Testes"
   ]
  },
  {
   "cell_type": "code",
   "execution_count": 50,
   "metadata": {},
   "outputs": [
    {
     "name": "stdout",
     "output_type": "stream",
     "text": [
      "[[ 0.         34.66987165 58.87274412 17.4642492  51.623638    2.82842712 10.77032961  7.07106781 22.8035085  11.40175425 14.86606875]\n",
      " [34.66987165  0.         26.07680962 22.20360331 30.6757233  31.90611227 24.20743687 27.78488798 15.03329638 23.32380758 20.1246118 ]\n",
      " [58.87274412 26.07680962  0.         48.25971405 45.         56.30275304 48.10405388 52.49761899 41.10960958 48.08326112 45.35416188]\n",
      " [17.4642492  22.20360331 48.25971405  0.         34.17601498 14.86606875 12.36931688 11.18033989  7.28010989  9.21954446  7.21110255]\n",
      " [51.623638   30.6757233  45.         34.17601498  0.         49.04079934 44.91102315 45.22167622 30.41381265 42.20189569 38.83297568]\n",
      " [ 2.82842712 31.90611227 56.30275304 14.86606875 49.04079934  0.          8.24621125  4.24264069 20.          8.60232527 12.04159458]\n",
      " [10.77032961 24.20743687 48.10405388 12.36931688 44.91102315  8.24621125  0.          5.09901951 14.56021978  3.16227766  6.08276253]\n",
      " [ 7.07106781 27.78488798 52.49761899 11.18033989 45.22167622  4.24264069  5.09901951  0.         15.8113883   4.47213595  7.81024968]\n",
      " [22.8035085  15.03329638 41.10960958  7.28010989 30.41381265 20.         14.56021978 15.8113883   0.         12.08304597  8.54400375]\n",
      " [11.40175425 23.32380758 48.08326112  9.21954446 42.20189569  8.60232527  3.16227766  4.47213595 12.08304597  0.          3.60555128]\n",
      " [14.86606875 20.1246118  45.35416188  7.21110255 38.83297568 12.04159458  6.08276253  7.81024968  8.54400375  3.60555128  0.        ]]\n",
      "Solução do Hill Climbing Tradicional (Troca de Três):  276.4480425118225\n",
      "Número de soluções geradas no Hill Climbing Tradicional (Troca de Três):  2 \n",
      "\n"
     ]
    }
   ],
   "source": [
    "traditional_solution = traditional_hill_climbing_swap_three(coordinate)\n",
    "print(\"Solução do Hill Climbing Tradicional (Troca de Três): \", traditional_solution[0])\n",
    "print(\"Número de soluções geradas no Hill Climbing Tradicional (Troca de Três): \", traditional_solution[2], \"\\n\")"
   ]
  },
  {
   "cell_type": "markdown",
   "metadata": {},
   "source": [
    "Comparando com as restantes variávies:\n",
    "* A nova regra de vizinhança de **troca de três** obteve uma solução com um custo significativamente maior em comparação com todas as outras variantes, exceto a Reinicialização Aleatória. Além disso, gerou um número muito menor de soluções, sugerindo que pode ter ficado preso em um ótimo local. \n",
    "* Não conseguiu superar a solução encontrada pelo **Hill Climbing Tradicional**, nem mesmo se aproximou das soluções encontradas pelo **Hill Climbing Estocástico**, **Primeiro-Melhor** e **Reinicialização Aleatória**. Isso indica que essa nova regra pode não ser eficaz para este problema específico.\n",
    "* Em geral, os resultados sugerem que a nova regra de vizinhança de **troca de três** não melhorou significativamente o desempenho do **Hill Climbing Tradicional** para este problema. Seria necessário avaliar mais a fundo o comportamento dessa nova regra em diferentes cenários e talvez ajustar seus parâmetros para obter melhores resultados."
   ]
  }
 ],
 "metadata": {
  "kernelspec": {
   "display_name": "Python 3",
   "language": "python",
   "name": "python3"
  },
  "language_info": {
   "codemirror_mode": {
    "name": "ipython",
    "version": 3
   },
   "file_extension": ".py",
   "mimetype": "text/x-python",
   "name": "python",
   "nbconvert_exporter": "python",
   "pygments_lexer": "ipython3",
   "version": "3.10.11"
  }
 },
 "nbformat": 4,
 "nbformat_minor": 2
}
